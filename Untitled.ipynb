{
 "cells": [
  {
   "cell_type": "code",
   "execution_count": null,
   "id": "4be820d1-8364-4415-ab7f-a6f7130bb154",
   "metadata": {},
   "outputs": [],
   "source": []
  }
 ],
 "metadata": {
  "kernelspec": {
   "display_name": "",
   "name": ""
  },
  "language_info": {
   "name": ""
  }
 },
 "nbformat": 4,
 "nbformat_minor": 5
}
